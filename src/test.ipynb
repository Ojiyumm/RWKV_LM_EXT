{
 "cells": [
  {
   "cell_type": "code",
   "execution_count": 1,
   "metadata": {},
   "outputs": [
    {
     "name": "stdout",
     "output_type": "stream",
     "text": [
      "tensor([1, 1, 1, 1, 1, 1, 1, 1, 1, 1, 1, 1, 1, 1, 1, 1, 1, 0, 0, 0, 0, 0, 0, 0,\n",
      "        0, 0, 0])\n"
     ]
    }
   ],
   "source": [
    "import torch\n",
    "mask = torch.tensor([1,1,1,1,1,1,1,1,1,1,1,1,1,1,1,1,1,0,0,0,0,0,0,0,0,0,0], dtype=torch.long)\n",
    "print(mask)"
   ]
  },
  {
   "cell_type": "code",
   "execution_count": 2,
   "metadata": {},
   "outputs": [
    {
     "name": "stdout",
     "output_type": "stream",
     "text": [
      "tensor([16, 15, 14, 13, 12, 11, 10,  9,  8,  7,  6,  5,  4,  3,  2,  1,  0, 17,\n",
      "        18, 19, 20, 21, 22, 23, 24, 25, 26])\n"
     ]
    }
   ],
   "source": [
    "def reverse_x_idx(mask,max_len):\n",
    "    idx_actual_len = torch.sum(mask, dim=0)\n",
    "    reverse_idx = torch.cat([torch.arange(0,idx_actual_len).flip(0),torch.arange(idx_actual_len,max_len)],dim=0)\n",
    "    return reverse_idx\n",
    "\n",
    "reverse_idx = reverse_x_idx(mask, mask.size(0))\n",
    "print(reverse_idx)"
   ]
  },
  {
   "cell_type": "code",
   "execution_count": 11,
   "metadata": {},
   "outputs": [
    {
     "name": "stdout",
     "output_type": "stream",
     "text": [
      "tensor([[ 0.6629,  0.6738,  1.0984],\n",
      "        [-0.8316, -1.2894, -1.3088],\n",
      "        [ 1.9054, -0.2226, -0.0591],\n",
      "        [ 0.6209, -0.4450,  0.8549],\n",
      "        [-0.0870, -0.5653, -0.2183],\n",
      "        [ 0.7089,  0.7173,  0.5894],\n",
      "        [-1.0869,  0.6915, -0.1289],\n",
      "        [-1.3462, -0.0712,  0.3928],\n",
      "        [ 1.6022,  0.7539, -0.7201],\n",
      "        [ 1.2009, -0.5068,  0.3092],\n",
      "        [-1.2862,  1.3798,  0.7447],\n",
      "        [-0.7266, -0.0875, -0.6420],\n",
      "        [-1.3129, -0.5802, -0.0506],\n",
      "        [ 0.0486, -2.7370,  0.2761],\n",
      "        [-0.0428, -0.4391,  0.3238],\n",
      "        [-1.3580, -0.0310, -0.5677],\n",
      "        [-1.0666, -0.3272, -1.1164],\n",
      "        [ 0.5284, -2.9404, -0.3438],\n",
      "        [ 0.5718,  0.8546, -1.9102],\n",
      "        [ 0.1571, -1.1835,  0.1889],\n",
      "        [ 0.2153,  0.6608,  0.8737],\n",
      "        [ 0.3630,  0.6763,  1.9349],\n",
      "        [ 0.3691, -0.9020, -1.3585],\n",
      "        [-0.1819,  0.0612, -0.2521],\n",
      "        [ 0.4604, -1.1519,  0.5941],\n",
      "        [-0.3449,  1.7198, -1.2018],\n",
      "        [ 0.5349,  2.1818, -0.7377]])\n",
      "----------------------------------\n",
      "tensor([[-1.0666, -0.3272, -1.1164],\n",
      "        [-1.3580, -0.0310, -0.5677],\n",
      "        [-0.0428, -0.4391,  0.3238],\n",
      "        [ 0.0486, -2.7370,  0.2761],\n",
      "        [-1.3129, -0.5802, -0.0506],\n",
      "        [-0.7266, -0.0875, -0.6420],\n",
      "        [-1.2862,  1.3798,  0.7447],\n",
      "        [ 1.2009, -0.5068,  0.3092],\n",
      "        [ 1.6022,  0.7539, -0.7201],\n",
      "        [-1.3462, -0.0712,  0.3928],\n",
      "        [-1.0869,  0.6915, -0.1289],\n",
      "        [ 0.7089,  0.7173,  0.5894],\n",
      "        [-0.0870, -0.5653, -0.2183],\n",
      "        [ 0.6209, -0.4450,  0.8549],\n",
      "        [ 1.9054, -0.2226, -0.0591],\n",
      "        [-0.8316, -1.2894, -1.3088],\n",
      "        [ 0.6629,  0.6738,  1.0984],\n",
      "        [ 0.5284, -2.9404, -0.3438],\n",
      "        [ 0.5718,  0.8546, -1.9102],\n",
      "        [ 0.1571, -1.1835,  0.1889],\n",
      "        [ 0.2153,  0.6608,  0.8737],\n",
      "        [ 0.3630,  0.6763,  1.9349],\n",
      "        [ 0.3691, -0.9020, -1.3585],\n",
      "        [-0.1819,  0.0612, -0.2521],\n",
      "        [ 0.4604, -1.1519,  0.5941],\n",
      "        [-0.3449,  1.7198, -1.2018],\n",
      "        [ 0.5349,  2.1818, -0.7377]])\n"
     ]
    }
   ],
   "source": [
    "def reverse_x(x, rev_idx):\n",
    "    return x.index_select(0, rev_idx.to(x.device))\n",
    "\n",
    "x = torch.randn(mask.size(0), 3)\n",
    "print(x)\n",
    "rev_x = reverse_x(x, reverse_idx)\n",
    "print('----------------------------------')\n",
    "print(rev_x)"
   ]
  },
  {
   "cell_type": "code",
   "execution_count": 12,
   "metadata": {},
   "outputs": [
    {
     "name": "stdout",
     "output_type": "stream",
     "text": [
      "tensor([1, 1, 1, 1, 1, 1, 1, 1, 1, 1, 1, 0, 0, 0, 0, 0, 0, 0, 0, 0, 0, 0, 0, 0,\n",
      "        0, 0, 0, 0, 0])\n"
     ]
    }
   ],
   "source": [
    "def create_mask(x):\n",
    "    mask = torch.ones(x.size(0)).to(x.device)\n",
    "    mask[x == 0] = 0\n",
    "    return mask.to(torch.long)\n",
    "\n",
    "x = [3,323,424,3423,4244,12323,4244,45,24,2112,1,0,0,0,0,0,0,0,0,0,0,0,0,0,0,0,0,0,0]\n",
    "x = torch.tensor(x,dtype=torch.long)\n",
    "mask = create_mask(x)\n",
    "print(mask)\n"
   ]
  }
 ],
 "metadata": {
  "kernelspec": {
   "display_name": "pytorch-env",
   "language": "python",
   "name": "python3"
  },
  "language_info": {
   "codemirror_mode": {
    "name": "ipython",
    "version": 3
   },
   "file_extension": ".py",
   "mimetype": "text/x-python",
   "name": "python",
   "nbconvert_exporter": "python",
   "pygments_lexer": "ipython3",
   "version": "3.10.13"
  }
 },
 "nbformat": 4,
 "nbformat_minor": 2
}
